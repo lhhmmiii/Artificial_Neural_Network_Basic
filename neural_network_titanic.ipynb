{
 "cells": [
  {
   "cell_type": "markdown",
   "id": "c0766a40",
   "metadata": {},
   "source": [
    "# Neural Network"
   ]
  },
  {
   "cell_type": "markdown",
   "id": "8757efda",
   "metadata": {},
   "source": [
    "**Bài toán:** Xây dựng model neural network cơ bản để dự đoán về số tình trạng sống/chết của những người trên tàu titanic năm 1912. Ta sẽ dùng thư viện tensorflow để xây dựng model."
   ]
  },
  {
   "cell_type": "markdown",
   "id": "a24d49c8",
   "metadata": {},
   "source": [
    "## 1. Import thư viện"
   ]
  },
  {
   "cell_type": "code",
   "execution_count": 1,
   "id": "94e746fe",
   "metadata": {},
   "outputs": [],
   "source": [
    "import numpy as np\n",
    "import pandas as pd\n",
    "import matplotlib.pyplot as plt\n",
    "import seaborn as sns\n",
    "import tensorflow as tf\n",
    "from tensorflow.keras import Sequential\n",
    "from tensorflow.keras.layers import Dense"
   ]
  },
  {
   "cell_type": "markdown",
   "id": "3af83929",
   "metadata": {},
   "source": [
    "## 2. Khám phá dữ liệu"
   ]
  },
  {
   "cell_type": "markdown",
   "id": "3bc8632f",
   "metadata": {},
   "source": [
    "**Đọc dữ liệu:**"
   ]
  },
  {
   "cell_type": "code",
   "execution_count": 2,
   "id": "c1b220e1",
   "metadata": {},
   "outputs": [],
   "source": [
    "df=pd.read_csv(\"train.csv\")\n",
    "df=df[df['Age'].isnull()==False]"
   ]
  },
  {
   "cell_type": "code",
   "execution_count": 3,
   "id": "129ebfa9",
   "metadata": {},
   "outputs": [
    {
     "data": {
      "text/html": [
       "<div>\n",
       "<style scoped>\n",
       "    .dataframe tbody tr th:only-of-type {\n",
       "        vertical-align: middle;\n",
       "    }\n",
       "\n",
       "    .dataframe tbody tr th {\n",
       "        vertical-align: top;\n",
       "    }\n",
       "\n",
       "    .dataframe thead th {\n",
       "        text-align: right;\n",
       "    }\n",
       "</style>\n",
       "<table border=\"1\" class=\"dataframe\">\n",
       "  <thead>\n",
       "    <tr style=\"text-align: right;\">\n",
       "      <th></th>\n",
       "      <th>PassengerId</th>\n",
       "      <th>Survived</th>\n",
       "      <th>Pclass</th>\n",
       "      <th>Name</th>\n",
       "      <th>Sex</th>\n",
       "      <th>Age</th>\n",
       "      <th>SibSp</th>\n",
       "      <th>Parch</th>\n",
       "      <th>Ticket</th>\n",
       "      <th>Fare</th>\n",
       "      <th>Cabin</th>\n",
       "      <th>Embarked</th>\n",
       "    </tr>\n",
       "  </thead>\n",
       "  <tbody>\n",
       "    <tr>\n",
       "      <th>0</th>\n",
       "      <td>1</td>\n",
       "      <td>0</td>\n",
       "      <td>3</td>\n",
       "      <td>Braund, Mr. Owen Harris</td>\n",
       "      <td>male</td>\n",
       "      <td>22.0</td>\n",
       "      <td>1</td>\n",
       "      <td>0</td>\n",
       "      <td>A/5 21171</td>\n",
       "      <td>7.2500</td>\n",
       "      <td>NaN</td>\n",
       "      <td>S</td>\n",
       "    </tr>\n",
       "    <tr>\n",
       "      <th>1</th>\n",
       "      <td>2</td>\n",
       "      <td>1</td>\n",
       "      <td>1</td>\n",
       "      <td>Cumings, Mrs. John Bradley (Florence Briggs Th...</td>\n",
       "      <td>female</td>\n",
       "      <td>38.0</td>\n",
       "      <td>1</td>\n",
       "      <td>0</td>\n",
       "      <td>PC 17599</td>\n",
       "      <td>71.2833</td>\n",
       "      <td>C85</td>\n",
       "      <td>C</td>\n",
       "    </tr>\n",
       "    <tr>\n",
       "      <th>2</th>\n",
       "      <td>3</td>\n",
       "      <td>1</td>\n",
       "      <td>3</td>\n",
       "      <td>Heikkinen, Miss. Laina</td>\n",
       "      <td>female</td>\n",
       "      <td>26.0</td>\n",
       "      <td>0</td>\n",
       "      <td>0</td>\n",
       "      <td>STON/O2. 3101282</td>\n",
       "      <td>7.9250</td>\n",
       "      <td>NaN</td>\n",
       "      <td>S</td>\n",
       "    </tr>\n",
       "    <tr>\n",
       "      <th>3</th>\n",
       "      <td>4</td>\n",
       "      <td>1</td>\n",
       "      <td>1</td>\n",
       "      <td>Futrelle, Mrs. Jacques Heath (Lily May Peel)</td>\n",
       "      <td>female</td>\n",
       "      <td>35.0</td>\n",
       "      <td>1</td>\n",
       "      <td>0</td>\n",
       "      <td>113803</td>\n",
       "      <td>53.1000</td>\n",
       "      <td>C123</td>\n",
       "      <td>S</td>\n",
       "    </tr>\n",
       "    <tr>\n",
       "      <th>4</th>\n",
       "      <td>5</td>\n",
       "      <td>0</td>\n",
       "      <td>3</td>\n",
       "      <td>Allen, Mr. William Henry</td>\n",
       "      <td>male</td>\n",
       "      <td>35.0</td>\n",
       "      <td>0</td>\n",
       "      <td>0</td>\n",
       "      <td>373450</td>\n",
       "      <td>8.0500</td>\n",
       "      <td>NaN</td>\n",
       "      <td>S</td>\n",
       "    </tr>\n",
       "  </tbody>\n",
       "</table>\n",
       "</div>"
      ],
      "text/plain": [
       "   PassengerId  Survived  Pclass  \\\n",
       "0            1         0       3   \n",
       "1            2         1       1   \n",
       "2            3         1       3   \n",
       "3            4         1       1   \n",
       "4            5         0       3   \n",
       "\n",
       "                                                Name     Sex   Age  SibSp  \\\n",
       "0                            Braund, Mr. Owen Harris    male  22.0      1   \n",
       "1  Cumings, Mrs. John Bradley (Florence Briggs Th...  female  38.0      1   \n",
       "2                             Heikkinen, Miss. Laina  female  26.0      0   \n",
       "3       Futrelle, Mrs. Jacques Heath (Lily May Peel)  female  35.0      1   \n",
       "4                           Allen, Mr. William Henry    male  35.0      0   \n",
       "\n",
       "   Parch            Ticket     Fare Cabin Embarked  \n",
       "0      0         A/5 21171   7.2500   NaN        S  \n",
       "1      0          PC 17599  71.2833   C85        C  \n",
       "2      0  STON/O2. 3101282   7.9250   NaN        S  \n",
       "3      0            113803  53.1000  C123        S  \n",
       "4      0            373450   8.0500   NaN        S  "
      ]
     },
     "execution_count": 3,
     "metadata": {},
     "output_type": "execute_result"
    }
   ],
   "source": [
    "df.head()"
   ]
  },
  {
   "cell_type": "markdown",
   "id": "af185f18",
   "metadata": {},
   "source": [
    "**Giải thích dữ liệu:**"
   ]
  },
  {
   "cell_type": "markdown",
   "id": "e9546cae",
   "metadata": {},
   "source": [
    "- PassengerID: ID hành khách\n",
    "- Survived: Khách hàng còn sống hay không(1: Có,0: Không)\n",
    "- Pclass: Hạng vé\n",
    "- Name: Tên\n",
    "- Sex: Giới tính\n",
    "- Age: Tuổi\n",
    "- SibSp: Số lượng anh chị em hoặc vợ chồng trên tàu\n",
    "- Parch: Số lượng ba mẹ hoặc trẻ em trên tàu\n",
    "- Ticket: Số hiệu vé\n",
    "- Fare: Giá vé\n",
    "- Cabin: Số hiệu cabin\n",
    "- Embarked: Cảng lên tàu (C = Cherbourg, Q = Queenstown, S = Southampton)"
   ]
  },
  {
   "cell_type": "markdown",
   "id": "3563a336",
   "metadata": {},
   "source": [
    "Ở jupyter notebook này, tôi sẽ chỉ lấy 4 features bao gồm: ['Pclass','Sex','Age','Fare'] và nhãn y là Survied."
   ]
  },
  {
   "cell_type": "code",
   "execution_count": 4,
   "id": "5a2982cb",
   "metadata": {},
   "outputs": [
    {
     "data": {
      "text/html": [
       "<div>\n",
       "<style scoped>\n",
       "    .dataframe tbody tr th:only-of-type {\n",
       "        vertical-align: middle;\n",
       "    }\n",
       "\n",
       "    .dataframe tbody tr th {\n",
       "        vertical-align: top;\n",
       "    }\n",
       "\n",
       "    .dataframe thead th {\n",
       "        text-align: right;\n",
       "    }\n",
       "</style>\n",
       "<table border=\"1\" class=\"dataframe\">\n",
       "  <thead>\n",
       "    <tr style=\"text-align: right;\">\n",
       "      <th></th>\n",
       "      <th>Pclass</th>\n",
       "      <th>Sex</th>\n",
       "      <th>Age</th>\n",
       "      <th>Fare</th>\n",
       "      <th>Survived</th>\n",
       "    </tr>\n",
       "  </thead>\n",
       "  <tbody>\n",
       "    <tr>\n",
       "      <th>0</th>\n",
       "      <td>3</td>\n",
       "      <td>male</td>\n",
       "      <td>22.0</td>\n",
       "      <td>7.2500</td>\n",
       "      <td>0</td>\n",
       "    </tr>\n",
       "    <tr>\n",
       "      <th>1</th>\n",
       "      <td>1</td>\n",
       "      <td>female</td>\n",
       "      <td>38.0</td>\n",
       "      <td>71.2833</td>\n",
       "      <td>1</td>\n",
       "    </tr>\n",
       "    <tr>\n",
       "      <th>2</th>\n",
       "      <td>3</td>\n",
       "      <td>female</td>\n",
       "      <td>26.0</td>\n",
       "      <td>7.9250</td>\n",
       "      <td>1</td>\n",
       "    </tr>\n",
       "    <tr>\n",
       "      <th>3</th>\n",
       "      <td>1</td>\n",
       "      <td>female</td>\n",
       "      <td>35.0</td>\n",
       "      <td>53.1000</td>\n",
       "      <td>1</td>\n",
       "    </tr>\n",
       "    <tr>\n",
       "      <th>4</th>\n",
       "      <td>3</td>\n",
       "      <td>male</td>\n",
       "      <td>35.0</td>\n",
       "      <td>8.0500</td>\n",
       "      <td>0</td>\n",
       "    </tr>\n",
       "  </tbody>\n",
       "</table>\n",
       "</div>"
      ],
      "text/plain": [
       "   Pclass     Sex   Age     Fare  Survived\n",
       "0       3    male  22.0   7.2500         0\n",
       "1       1  female  38.0  71.2833         1\n",
       "2       3  female  26.0   7.9250         1\n",
       "3       1  female  35.0  53.1000         1\n",
       "4       3    male  35.0   8.0500         0"
      ]
     },
     "execution_count": 4,
     "metadata": {},
     "output_type": "execute_result"
    }
   ],
   "source": [
    "df=df[['Pclass','Sex','Age','Fare','Survived']]\n",
    "df.head()"
   ]
  },
  {
   "cell_type": "code",
   "execution_count": 5,
   "id": "03276271",
   "metadata": {},
   "outputs": [],
   "source": [
    "# Mapping {'female','male'} -> {0,1}.\n",
    "sex_mapping = {'female': 1, 'male': 0}\n",
    "df['Sex'] = df['Sex'].map(sex_mapping)"
   ]
  },
  {
   "cell_type": "markdown",
   "id": "ec1d3107",
   "metadata": {},
   "source": [
    "**Hình dáng dữ liệu:**"
   ]
  },
  {
   "cell_type": "code",
   "execution_count": 6,
   "id": "25a3ef8a",
   "metadata": {},
   "outputs": [
    {
     "data": {
      "text/plain": [
       "(714, 5)"
      ]
     },
     "execution_count": 6,
     "metadata": {},
     "output_type": "execute_result"
    }
   ],
   "source": [
    "df.shape"
   ]
  },
  {
   "cell_type": "markdown",
   "id": "41273108",
   "metadata": {},
   "source": [
    "**Thông tin dữ liệu:**"
   ]
  },
  {
   "cell_type": "code",
   "execution_count": 7,
   "id": "ec5749fe",
   "metadata": {},
   "outputs": [
    {
     "name": "stdout",
     "output_type": "stream",
     "text": [
      "<class 'pandas.core.frame.DataFrame'>\n",
      "Int64Index: 714 entries, 0 to 890\n",
      "Data columns (total 5 columns):\n",
      " #   Column    Non-Null Count  Dtype  \n",
      "---  ------    --------------  -----  \n",
      " 0   Pclass    714 non-null    int64  \n",
      " 1   Sex       714 non-null    int64  \n",
      " 2   Age       714 non-null    float64\n",
      " 3   Fare      714 non-null    float64\n",
      " 4   Survived  714 non-null    int64  \n",
      "dtypes: float64(2), int64(3)\n",
      "memory usage: 33.5 KB\n"
     ]
    }
   ],
   "source": [
    "df.info();"
   ]
  },
  {
   "cell_type": "markdown",
   "id": "efbd27fb",
   "metadata": {},
   "source": [
    "**Mô tả dữ liệu:**"
   ]
  },
  {
   "cell_type": "code",
   "execution_count": 8,
   "id": "c179e988",
   "metadata": {},
   "outputs": [
    {
     "data": {
      "text/html": [
       "<div>\n",
       "<style scoped>\n",
       "    .dataframe tbody tr th:only-of-type {\n",
       "        vertical-align: middle;\n",
       "    }\n",
       "\n",
       "    .dataframe tbody tr th {\n",
       "        vertical-align: top;\n",
       "    }\n",
       "\n",
       "    .dataframe thead th {\n",
       "        text-align: right;\n",
       "    }\n",
       "</style>\n",
       "<table border=\"1\" class=\"dataframe\">\n",
       "  <thead>\n",
       "    <tr style=\"text-align: right;\">\n",
       "      <th></th>\n",
       "      <th>Pclass</th>\n",
       "      <th>Sex</th>\n",
       "      <th>Age</th>\n",
       "      <th>Fare</th>\n",
       "      <th>Survived</th>\n",
       "    </tr>\n",
       "  </thead>\n",
       "  <tbody>\n",
       "    <tr>\n",
       "      <th>count</th>\n",
       "      <td>714.000000</td>\n",
       "      <td>714.000000</td>\n",
       "      <td>714.000000</td>\n",
       "      <td>714.000000</td>\n",
       "      <td>714.000000</td>\n",
       "    </tr>\n",
       "    <tr>\n",
       "      <th>mean</th>\n",
       "      <td>2.236695</td>\n",
       "      <td>0.365546</td>\n",
       "      <td>29.699118</td>\n",
       "      <td>34.694514</td>\n",
       "      <td>0.406162</td>\n",
       "    </tr>\n",
       "    <tr>\n",
       "      <th>std</th>\n",
       "      <td>0.838250</td>\n",
       "      <td>0.481921</td>\n",
       "      <td>14.526497</td>\n",
       "      <td>52.918930</td>\n",
       "      <td>0.491460</td>\n",
       "    </tr>\n",
       "    <tr>\n",
       "      <th>min</th>\n",
       "      <td>1.000000</td>\n",
       "      <td>0.000000</td>\n",
       "      <td>0.420000</td>\n",
       "      <td>0.000000</td>\n",
       "      <td>0.000000</td>\n",
       "    </tr>\n",
       "    <tr>\n",
       "      <th>25%</th>\n",
       "      <td>1.000000</td>\n",
       "      <td>0.000000</td>\n",
       "      <td>20.125000</td>\n",
       "      <td>8.050000</td>\n",
       "      <td>0.000000</td>\n",
       "    </tr>\n",
       "    <tr>\n",
       "      <th>50%</th>\n",
       "      <td>2.000000</td>\n",
       "      <td>0.000000</td>\n",
       "      <td>28.000000</td>\n",
       "      <td>15.741700</td>\n",
       "      <td>0.000000</td>\n",
       "    </tr>\n",
       "    <tr>\n",
       "      <th>75%</th>\n",
       "      <td>3.000000</td>\n",
       "      <td>1.000000</td>\n",
       "      <td>38.000000</td>\n",
       "      <td>33.375000</td>\n",
       "      <td>1.000000</td>\n",
       "    </tr>\n",
       "    <tr>\n",
       "      <th>max</th>\n",
       "      <td>3.000000</td>\n",
       "      <td>1.000000</td>\n",
       "      <td>80.000000</td>\n",
       "      <td>512.329200</td>\n",
       "      <td>1.000000</td>\n",
       "    </tr>\n",
       "  </tbody>\n",
       "</table>\n",
       "</div>"
      ],
      "text/plain": [
       "           Pclass         Sex         Age        Fare    Survived\n",
       "count  714.000000  714.000000  714.000000  714.000000  714.000000\n",
       "mean     2.236695    0.365546   29.699118   34.694514    0.406162\n",
       "std      0.838250    0.481921   14.526497   52.918930    0.491460\n",
       "min      1.000000    0.000000    0.420000    0.000000    0.000000\n",
       "25%      1.000000    0.000000   20.125000    8.050000    0.000000\n",
       "50%      2.000000    0.000000   28.000000   15.741700    0.000000\n",
       "75%      3.000000    1.000000   38.000000   33.375000    1.000000\n",
       "max      3.000000    1.000000   80.000000  512.329200    1.000000"
      ]
     },
     "execution_count": 8,
     "metadata": {},
     "output_type": "execute_result"
    }
   ],
   "source": [
    "df.describe()"
   ]
  },
  {
   "cell_type": "markdown",
   "id": "2cd81527",
   "metadata": {},
   "source": [
    "**Biểu đồ cột giữa Sex và Survied:**"
   ]
  },
  {
   "cell_type": "code",
   "execution_count": 9,
   "id": "7d6cacf0",
   "metadata": {},
   "outputs": [
    {
     "data": {
      "image/png": "[encoded data removed]",
      "text/plain": [
       "<Figure size 432x288 with 1 Axes>"
      ]
     },
     "metadata": {
      "needs_background": "light"
     },
     "output_type": "display_data"
    }
   ],
   "source": [
    "sns.barplot(data=df,y='Survived',x='Sex');\n",
    "plt.title('Biểu đồ cột giữa Sex và Surived');"
   ]
  },
  {
   "cell_type": "markdown",
   "id": "2e79d70b",
   "metadata": {},
   "source": [
    "Ta có thể dễ dạng nhận thấy phụ nữ có tỉ lệ sống sót cao hơn."
   ]
  },
  {
   "cell_type": "markdown",
   "id": "bb5e18e0",
   "metadata": {},
   "source": [
    "Số liệu thống kê cụ thể về tỉ lệ Survived theo Sex:"
   ]
  },
  {
   "cell_type": "code",
   "execution_count": 10,
   "id": "1359417f",
   "metadata": {},
   "outputs": [
    {
     "data": {
      "text/html": [
       "<div>\n",
       "<style scoped>\n",
       "    .dataframe tbody tr th:only-of-type {\n",
       "        vertical-align: middle;\n",
       "    }\n",
       "\n",
       "    .dataframe tbody tr th {\n",
       "        vertical-align: top;\n",
       "    }\n",
       "\n",
       "    .dataframe thead th {\n",
       "        text-align: right;\n",
       "    }\n",
       "</style>\n",
       "<table border=\"1\" class=\"dataframe\">\n",
       "  <thead>\n",
       "    <tr style=\"text-align: right;\">\n",
       "      <th></th>\n",
       "      <th>Sex</th>\n",
       "      <th>Survived</th>\n",
       "    </tr>\n",
       "  </thead>\n",
       "  <tbody>\n",
       "    <tr>\n",
       "      <th>1</th>\n",
       "      <td>1</td>\n",
       "      <td>0.754789</td>\n",
       "    </tr>\n",
       "    <tr>\n",
       "      <th>0</th>\n",
       "      <td>0</td>\n",
       "      <td>0.205298</td>\n",
       "    </tr>\n",
       "  </tbody>\n",
       "</table>\n",
       "</div>"
      ],
      "text/plain": [
       "   Sex  Survived\n",
       "1    1  0.754789\n",
       "0    0  0.205298"
      ]
     },
     "execution_count": 10,
     "metadata": {},
     "output_type": "execute_result"
    }
   ],
   "source": [
    "df[['Sex', 'Survived']].groupby(['Sex'], as_index=False).mean().sort_values(by='Survived', ascending=False)"
   ]
  },
  {
   "cell_type": "markdown",
   "id": "8e244729",
   "metadata": {},
   "source": [
    "**Biểu đồ cột về Pclass và Survied:**"
   ]
  },
  {
   "cell_type": "code",
   "execution_count": 11,
   "id": "cd9360d3",
   "metadata": {},
   "outputs": [
    {
     "data": {
      "image/png": "[encoded data removed]",
      "text/plain": [
       "<Figure size 432x288 with 1 Axes>"
      ]
     },
     "metadata": {
      "needs_background": "light"
     },
     "output_type": "display_data"
    }
   ],
   "source": [
    "sns.barplot(data=df,y='Survived',x='Pclass');\n",
    "plt.title('Biểu đồ cột giữa Pclass và Surived');"
   ]
  },
  {
   "cell_type": "markdown",
   "id": "43670146",
   "metadata": {},
   "source": [
    "Từ đồ thị trên ta thấy Tỷ lệ người ở sống ở Pclass 1 là cao nhất, giảm dần xuống Pclass 2 và 3."
   ]
  },
  {
   "cell_type": "markdown",
   "id": "69725783",
   "metadata": {},
   "source": [
    "Số liệu thống kê cụ thể về tỉ lệ Survived theo Pclass"
   ]
  },
  {
   "cell_type": "code",
   "execution_count": 12,
   "id": "a5d87c04",
   "metadata": {},
   "outputs": [
    {
     "data": {
      "text/html": [
       "<div>\n",
       "<style scoped>\n",
       "    .dataframe tbody tr th:only-of-type {\n",
       "        vertical-align: middle;\n",
       "    }\n",
       "\n",
       "    .dataframe tbody tr th {\n",
       "        vertical-align: top;\n",
       "    }\n",
       "\n",
       "    .dataframe thead th {\n",
       "        text-align: right;\n",
       "    }\n",
       "</style>\n",
       "<table border=\"1\" class=\"dataframe\">\n",
       "  <thead>\n",
       "    <tr style=\"text-align: right;\">\n",
       "      <th></th>\n",
       "      <th>Pclass</th>\n",
       "      <th>Survived</th>\n",
       "    </tr>\n",
       "  </thead>\n",
       "  <tbody>\n",
       "    <tr>\n",
       "      <th>0</th>\n",
       "      <td>1</td>\n",
       "      <td>0.655914</td>\n",
       "    </tr>\n",
       "    <tr>\n",
       "      <th>1</th>\n",
       "      <td>2</td>\n",
       "      <td>0.479769</td>\n",
       "    </tr>\n",
       "    <tr>\n",
       "      <th>2</th>\n",
       "      <td>3</td>\n",
       "      <td>0.239437</td>\n",
       "    </tr>\n",
       "  </tbody>\n",
       "</table>\n",
       "</div>"
      ],
      "text/plain": [
       "   Pclass  Survived\n",
       "0       1  0.655914\n",
       "1       2  0.479769\n",
       "2       3  0.239437"
      ]
     },
     "execution_count": 12,
     "metadata": {},
     "output_type": "execute_result"
    }
   ],
   "source": [
    "df[['Pclass', 'Survived']].groupby(['Pclass'], as_index=False).mean().sort_values(by='Survived', ascending=False)"
   ]
  },
  {
   "cell_type": "markdown",
   "id": "c6259325",
   "metadata": {},
   "source": [
    "**Biểu đồ cột về Age và Survived:**"
   ]
  },
  {
   "cell_type": "code",
   "execution_count": 13,
   "id": "0c6defa5",
   "metadata": {},
   "outputs": [
    {
     "data": {
      "image/png": "[encoded data removed]",
      "text/plain": [
       "<Figure size 432x288 with 1 Axes>"
      ]
     },
     "metadata": {
      "needs_background": "light"
     },
     "output_type": "display_data"
    }
   ],
   "source": [
    "age_bins = pd.cut(df['Age'], bins=[0, 10, 20, 30, 40, 50, 60, 70, 80])\n",
    "sns.barplot(x=age_bins, y='Survived', data=df)\n",
    "plt.title('Biểu đồ cột giữa Age và Surived');"
   ]
  },
  {
   "cell_type": "markdown",
   "id": "0365a4be",
   "metadata": {},
   "source": [
    "**Trực quan lên toàn bộ dữ liệu**"
   ]
  },
  {
   "cell_type": "code",
   "execution_count": 14,
   "id": "28b7d720",
   "metadata": {},
   "outputs": [
    {
     "data": {
      "image/png": "[encoded data removed]",
      "text/plain": [
       "<Figure size 771.875x720 with 20 Axes>"
      ]
     },
     "metadata": {
      "needs_background": "light"
     },
     "output_type": "display_data"
    }
   ],
   "source": [
    "sns.pairplot(data=df,hue='Survived');"
   ]
  },
  {
   "cell_type": "markdown",
   "id": "3500b28b",
   "metadata": {},
   "source": [
    "**Kiểm tra độ tương quan giữa các cột bằng bản đồ nhiệt**"
   ]
  },
  {
   "cell_type": "code",
   "execution_count": 15,
   "id": "e1c7af3b",
   "metadata": {},
   "outputs": [
    {
     "data": {
      "image/png": "[encoded data removed]",
      "text/plain": [
       "<Figure size 1296x360 with 2 Axes>"
      ]
     },
     "metadata": {
      "needs_background": "light"
     },
     "output_type": "display_data"
    }
   ],
   "source": [
    "plt.figure(figsize=(18,5))\n",
    "sns.heatmap(df.corr(), annot=True, lw = 1, linecolor=\"r\",cmap=\"Blues\");"
   ]
  },
  {
   "cell_type": "markdown",
   "id": "68d5ea70",
   "metadata": {},
   "source": [
    "## 3. Trainning and testing data."
   ]
  },
  {
   "cell_type": "markdown",
   "id": "972ed74d",
   "metadata": {},
   "source": [
    "**Tách tập df thành X, y**"
   ]
  },
  {
   "cell_type": "code",
   "execution_count": 16,
   "id": "ca1b65c7",
   "metadata": {},
   "outputs": [],
   "source": [
    "X=df.iloc[:,:-1]\n",
    "y=df.iloc[:,-1]"
   ]
  },
  {
   "cell_type": "markdown",
   "id": "7af57347",
   "metadata": {},
   "source": [
    "**Sử dụng model_selection.train_test_split từ sklearn để chia dữ liệu thành các tập huấn luyện và thử nghiệm**"
   ]
  },
  {
   "cell_type": "code",
   "execution_count": 17,
   "id": "a190f666",
   "metadata": {},
   "outputs": [],
   "source": [
    "from sklearn.model_selection import train_test_split"
   ]
  },
  {
   "cell_type": "code",
   "execution_count": 18,
   "id": "2d439ba1",
   "metadata": {},
   "outputs": [],
   "source": [
    "X_train, X_test, y_train, y_test = train_test_split(X, y, test_size=0.2, random_state=101)"
   ]
  },
  {
   "cell_type": "code",
   "execution_count": 20,
   "id": "55559a35",
   "metadata": {},
   "outputs": [],
   "source": [
    "a1=X_train.values.reshape(-1,4)\n",
    "a2=y_train.values.reshape(-1,1)"
   ]
  },
  {
   "cell_type": "markdown",
   "id": "923cb9ec",
   "metadata": {},
   "source": [
    "**Xây dựng model**"
   ]
  },
  {
   "cell_type": "markdown",
   "id": "e8f97c7e",
   "metadata": {},
   "source": [
    "Tôi sẽ xây dựng model có 4 lớp.\n",
    "- Layer 1: 64 units, activation: relu.\n",
    "- Layer 2: 32 units, activation: relu.\n",
    "- Layer 3: 8 units, activation: relu.\n",
    "- Layer 4: 1 units, activation: sigmoid."
   ]
  },
  {
   "cell_type": "code",
   "execution_count": 37,
   "id": "54771fb1",
   "metadata": {},
   "outputs": [],
   "source": [
    "model=Sequential([\n",
    "    Dense(units=64,activation='relu'),\n",
    "    Dense(units=32,activation='relu'),\n",
    "    Dense(units=8,activation='relu'),\n",
    "    Dense(units=1,activation='sigmoid'),\n",
    "])"
   ]
  },
  {
   "cell_type": "code",
   "execution_count": 38,
   "id": "1c7dfb6b",
   "metadata": {},
   "outputs": [],
   "source": [
    "from tensorflow.keras.losses import BinaryCrossentropy"
   ]
  },
  {
   "cell_type": "code",
   "execution_count": 41,
   "id": "6be3e016",
   "metadata": {},
   "outputs": [],
   "source": [
    "model.compile(loss=BinaryCrossentropy(),metrics=['accuracy'],optimizer='adam')"
   ]
  },
  {
   "cell_type": "code",
   "execution_count": 42,
   "id": "377c6acd",
   "metadata": {},
   "outputs": [
    {
     "name": "stdout",
     "output_type": "stream",
     "text": [
      "Epoch 1/200\n",
      "15/15 [==============================] - 0s 7ms/step - loss: 1.4911 - accuracy: 0.8026 - val_loss: 1.1228 - val_accuracy: 0.7826\n",
      "Epoch 2/200\n",
      "15/15 [==============================] - 0s 3ms/step - loss: 1.0659 - accuracy: 0.7873 - val_loss: 0.7508 - val_accuracy: 0.7826\n",
      "Epoch 3/200\n",
      "15/15 [==============================] - 0s 1ms/step - loss: 0.7765 - accuracy: 0.8092 - val_loss: 0.6066 - val_accuracy: 0.7826\n",
      "Epoch 4/200\n",
      "15/15 [==============================] - 0s 1ms/step - loss: 0.5895 - accuracy: 0.8158 - val_loss: 0.5654 - val_accuracy: 0.8000\n",
      "Epoch 5/200\n",
      "15/15 [==============================] - 0s 1ms/step - loss: 0.5136 - accuracy: 0.7763 - val_loss: 0.5194 - val_accuracy: 0.7913\n",
      "Epoch 6/200\n",
      "15/15 [==============================] - 0s 1ms/step - loss: 0.4792 - accuracy: 0.8048 - val_loss: 0.5064 - val_accuracy: 0.8000\n",
      "Epoch 7/200\n",
      "15/15 [==============================] - 0s 1ms/step - loss: 0.4634 - accuracy: 0.8026 - val_loss: 0.4994 - val_accuracy: 0.7913\n",
      "Epoch 8/200\n",
      "15/15 [==============================] - 0s 1ms/step - loss: 0.4593 - accuracy: 0.8180 - val_loss: 0.5007 - val_accuracy: 0.7826\n",
      "Epoch 9/200\n",
      "15/15 [==============================] - 0s 1ms/step - loss: 0.4605 - accuracy: 0.8224 - val_loss: 0.5002 - val_accuracy: 0.8087\n",
      "Epoch 10/200\n",
      "15/15 [==============================] - 0s 1ms/step - loss: 0.4566 - accuracy: 0.7939 - val_loss: 0.4970 - val_accuracy: 0.7826\n",
      "Epoch 11/200\n",
      "15/15 [==============================] - 0s 1ms/step - loss: 0.4484 - accuracy: 0.8136 - val_loss: 0.4909 - val_accuracy: 0.7565\n",
      "Epoch 12/200\n",
      "15/15 [==============================] - 0s 1ms/step - loss: 0.4502 - accuracy: 0.8114 - val_loss: 0.4890 - val_accuracy: 0.7739\n",
      "Epoch 13/200\n",
      "15/15 [==============================] - 0s 1ms/step - loss: 0.4472 - accuracy: 0.8092 - val_loss: 0.4828 - val_accuracy: 0.7826\n",
      "Epoch 14/200\n",
      "15/15 [==============================] - 0s 1ms/step - loss: 0.4508 - accuracy: 0.8158 - val_loss: 0.4777 - val_accuracy: 0.7826\n",
      "Epoch 15/200\n",
      "15/15 [==============================] - 0s 1ms/step - loss: 0.4472 - accuracy: 0.8070 - val_loss: 0.4802 - val_accuracy: 0.7826\n",
      "Epoch 16/200\n",
      "15/15 [==============================] - 0s 1ms/step - loss: 0.4427 - accuracy: 0.8114 - val_loss: 0.4838 - val_accuracy: 0.7739\n",
      "Epoch 17/200\n",
      "15/15 [==============================] - 0s 1ms/step - loss: 0.4455 - accuracy: 0.8202 - val_loss: 0.4781 - val_accuracy: 0.7826\n",
      "Epoch 18/200\n",
      "15/15 [==============================] - 0s 1ms/step - loss: 0.4393 - accuracy: 0.8114 - val_loss: 0.4743 - val_accuracy: 0.7826\n",
      "Epoch 19/200\n",
      "15/15 [==============================] - 0s 1ms/step - loss: 0.4399 - accuracy: 0.8048 - val_loss: 0.4764 - val_accuracy: 0.7913\n",
      "Epoch 20/200\n",
      "15/15 [==============================] - 0s 1ms/step - loss: 0.4348 - accuracy: 0.8026 - val_loss: 0.4730 - val_accuracy: 0.7826\n",
      "Epoch 21/200\n",
      "15/15 [==============================] - 0s 1ms/step - loss: 0.4397 - accuracy: 0.8048 - val_loss: 0.4664 - val_accuracy: 0.7826\n",
      "Epoch 22/200\n",
      "15/15 [==============================] - 0s 1ms/step - loss: 0.4378 - accuracy: 0.8026 - val_loss: 0.4606 - val_accuracy: 0.7826\n",
      "Epoch 23/200\n",
      "15/15 [==============================] - 0s 1ms/step - loss: 0.4359 - accuracy: 0.8004 - val_loss: 0.4718 - val_accuracy: 0.7826\n",
      "Epoch 24/200\n",
      "15/15 [==============================] - 0s 1ms/step - loss: 0.4323 - accuracy: 0.8070 - val_loss: 0.4598 - val_accuracy: 0.7913\n",
      "Epoch 25/200\n",
      "15/15 [==============================] - 0s 1ms/step - loss: 0.4307 - accuracy: 0.7982 - val_loss: 0.4564 - val_accuracy: 0.7826\n",
      "Epoch 26/200\n",
      "15/15 [==============================] - 0s 2ms/step - loss: 0.4303 - accuracy: 0.8004 - val_loss: 0.4484 - val_accuracy: 0.7826\n",
      "Epoch 27/200\n",
      "15/15 [==============================] - 0s 1ms/step - loss: 0.4315 - accuracy: 0.8004 - val_loss: 0.4627 - val_accuracy: 0.7826\n",
      "Epoch 28/200\n",
      "15/15 [==============================] - 0s 1ms/step - loss: 0.4324 - accuracy: 0.8048 - val_loss: 0.4514 - val_accuracy: 0.7826\n",
      "Epoch 29/200\n",
      "15/15 [==============================] - 0s 1ms/step - loss: 0.4362 - accuracy: 0.8070 - val_loss: 0.4355 - val_accuracy: 0.7826\n",
      "Epoch 30/200\n",
      "15/15 [==============================] - 0s 1ms/step - loss: 0.4310 - accuracy: 0.8070 - val_loss: 0.4391 - val_accuracy: 0.7913\n",
      "Epoch 31/200\n",
      "15/15 [==============================] - 0s 1ms/step - loss: 0.4266 - accuracy: 0.8048 - val_loss: 0.4449 - val_accuracy: 0.7739\n",
      "Epoch 32/200\n",
      "15/15 [==============================] - 0s 1ms/step - loss: 0.4189 - accuracy: 0.8048 - val_loss: 0.4344 - val_accuracy: 0.7739\n",
      "Epoch 33/200\n",
      "15/15 [==============================] - 0s 1ms/step - loss: 0.4235 - accuracy: 0.8114 - val_loss: 0.4396 - val_accuracy: 0.7826\n",
      "Epoch 34/200\n",
      "15/15 [==============================] - 0s 1ms/step - loss: 0.4252 - accuracy: 0.8070 - val_loss: 0.4382 - val_accuracy: 0.7826\n",
      "Epoch 35/200\n",
      "15/15 [==============================] - 0s 1ms/step - loss: 0.4184 - accuracy: 0.8114 - val_loss: 0.4315 - val_accuracy: 0.7739\n",
      "Epoch 36/200\n",
      "15/15 [==============================] - 0s 1ms/step - loss: 0.4193 - accuracy: 0.8070 - val_loss: 0.4311 - val_accuracy: 0.7739\n",
      "Epoch 37/200\n",
      "15/15 [==============================] - 0s 2ms/step - loss: 0.4182 - accuracy: 0.8136 - val_loss: 0.4467 - val_accuracy: 0.7913\n",
      "Epoch 38/200\n",
      "15/15 [==============================] - 0s 1ms/step - loss: 0.4290 - accuracy: 0.7982 - val_loss: 0.4378 - val_accuracy: 0.7826\n",
      "Epoch 39/200\n",
      "15/15 [==============================] - 0s 1ms/step - loss: 0.4198 - accuracy: 0.8180 - val_loss: 0.4372 - val_accuracy: 0.7826\n",
      "Epoch 40/200\n",
      "15/15 [==============================] - 0s 1ms/step - loss: 0.4174 - accuracy: 0.8136 - val_loss: 0.4318 - val_accuracy: 0.7739\n",
      "Epoch 41/200\n",
      "15/15 [==============================] - 0s 1ms/step - loss: 0.4175 - accuracy: 0.8114 - val_loss: 0.4355 - val_accuracy: 0.7652\n",
      "Epoch 42/200\n",
      "15/15 [==============================] - 0s 1ms/step - loss: 0.4142 - accuracy: 0.8136 - val_loss: 0.4403 - val_accuracy: 0.7826\n",
      "Epoch 43/200\n",
      "15/15 [==============================] - 0s 1ms/step - loss: 0.4195 - accuracy: 0.8048 - val_loss: 0.4327 - val_accuracy: 0.7826\n",
      "Epoch 44/200\n",
      "15/15 [==============================] - 0s 1ms/step - loss: 0.4120 - accuracy: 0.8070 - val_loss: 0.4359 - val_accuracy: 0.7739\n",
      "Epoch 45/200\n",
      "15/15 [==============================] - 0s 1ms/step - loss: 0.4183 - accuracy: 0.8092 - val_loss: 0.4456 - val_accuracy: 0.7826\n",
      "Epoch 46/200\n",
      "15/15 [==============================] - 0s 2ms/step - loss: 0.4303 - accuracy: 0.8070 - val_loss: 0.4524 - val_accuracy: 0.8000\n",
      "Epoch 47/200\n",
      "15/15 [==============================] - 0s 1ms/step - loss: 0.4239 - accuracy: 0.8136 - val_loss: 0.4373 - val_accuracy: 0.7652\n",
      "Epoch 48/200\n",
      "15/15 [==============================] - 0s 1ms/step - loss: 0.4237 - accuracy: 0.8070 - val_loss: 0.4420 - val_accuracy: 0.7913\n",
      "Epoch 49/200\n",
      "15/15 [==============================] - 0s 1ms/step - loss: 0.4207 - accuracy: 0.8180 - val_loss: 0.4360 - val_accuracy: 0.7826\n",
      "Epoch 50/200\n",
      "15/15 [==============================] - 0s 1ms/step - loss: 0.4200 - accuracy: 0.7917 - val_loss: 0.4321 - val_accuracy: 0.7826\n",
      "Epoch 51/200\n",
      "15/15 [==============================] - 0s 1ms/step - loss: 0.4183 - accuracy: 0.8136 - val_loss: 0.4353 - val_accuracy: 0.7826\n",
      "Epoch 52/200\n",
      "15/15 [==============================] - 0s 1ms/step - loss: 0.4268 - accuracy: 0.7961 - val_loss: 0.4346 - val_accuracy: 0.7652\n",
      "Epoch 53/200\n",
      "15/15 [==============================] - 0s 1ms/step - loss: 0.4223 - accuracy: 0.8136 - val_loss: 0.4431 - val_accuracy: 0.7913\n",
      "Epoch 54/200\n",
      "15/15 [==============================] - 0s 1ms/step - loss: 0.4181 - accuracy: 0.8004 - val_loss: 0.4337 - val_accuracy: 0.7826\n",
      "Epoch 55/200\n",
      "15/15 [==============================] - 0s 1ms/step - loss: 0.4239 - accuracy: 0.8158 - val_loss: 0.4545 - val_accuracy: 0.7913\n",
      "Epoch 56/200\n",
      "15/15 [==============================] - 0s 1ms/step - loss: 0.4143 - accuracy: 0.8048 - val_loss: 0.4404 - val_accuracy: 0.7826\n",
      "Epoch 57/200\n",
      "15/15 [==============================] - 0s 1ms/step - loss: 0.4131 - accuracy: 0.8158 - val_loss: 0.4427 - val_accuracy: 0.7826\n",
      "Epoch 58/200\n",
      "15/15 [==============================] - 0s 1ms/step - loss: 0.4132 - accuracy: 0.8180 - val_loss: 0.4371 - val_accuracy: 0.7826\n"
     ]
    },
    {
     "name": "stdout",
     "output_type": "stream",
     "text": [
      "Epoch 59/200\n",
      "15/15 [==============================] - 0s 1ms/step - loss: 0.4105 - accuracy: 0.8158 - val_loss: 0.4450 - val_accuracy: 0.7826\n",
      "Epoch 60/200\n",
      "15/15 [==============================] - 0s 1ms/step - loss: 0.4090 - accuracy: 0.8070 - val_loss: 0.4337 - val_accuracy: 0.7739\n",
      "Epoch 61/200\n",
      "15/15 [==============================] - 0s 1ms/step - loss: 0.4139 - accuracy: 0.8114 - val_loss: 0.4354 - val_accuracy: 0.7739\n",
      "Epoch 62/200\n",
      "15/15 [==============================] - 0s 1ms/step - loss: 0.4130 - accuracy: 0.8180 - val_loss: 0.4443 - val_accuracy: 0.7826\n",
      "Epoch 63/200\n",
      "15/15 [==============================] - 0s 1ms/step - loss: 0.4116 - accuracy: 0.8180 - val_loss: 0.4441 - val_accuracy: 0.7826\n",
      "Epoch 64/200\n",
      "15/15 [==============================] - 0s 1ms/step - loss: 0.4249 - accuracy: 0.7939 - val_loss: 0.4327 - val_accuracy: 0.7739\n",
      "Epoch 65/200\n",
      "15/15 [==============================] - 0s 1ms/step - loss: 0.4177 - accuracy: 0.8180 - val_loss: 0.4371 - val_accuracy: 0.7826\n",
      "Epoch 66/200\n",
      "15/15 [==============================] - 0s 1ms/step - loss: 0.4134 - accuracy: 0.8158 - val_loss: 0.4351 - val_accuracy: 0.7739\n",
      "Epoch 67/200\n",
      "15/15 [==============================] - 0s 1ms/step - loss: 0.4147 - accuracy: 0.8092 - val_loss: 0.4323 - val_accuracy: 0.7739\n",
      "Epoch 68/200\n",
      "15/15 [==============================] - 0s 1ms/step - loss: 0.4095 - accuracy: 0.8114 - val_loss: 0.4379 - val_accuracy: 0.7739\n",
      "Epoch 69/200\n",
      "15/15 [==============================] - 0s 1ms/step - loss: 0.4278 - accuracy: 0.7982 - val_loss: 0.4533 - val_accuracy: 0.7826\n",
      "Epoch 70/200\n",
      "15/15 [==============================] - 0s 1ms/step - loss: 0.4216 - accuracy: 0.8092 - val_loss: 0.4522 - val_accuracy: 0.7826\n",
      "Epoch 71/200\n",
      "15/15 [==============================] - 0s 1ms/step - loss: 0.4218 - accuracy: 0.8070 - val_loss: 0.4300 - val_accuracy: 0.7652\n",
      "Epoch 72/200\n",
      "15/15 [==============================] - 0s 1ms/step - loss: 0.4252 - accuracy: 0.8224 - val_loss: 0.4475 - val_accuracy: 0.7826\n",
      "Epoch 73/200\n",
      "15/15 [==============================] - 0s 1ms/step - loss: 0.4145 - accuracy: 0.8136 - val_loss: 0.4361 - val_accuracy: 0.7739\n",
      "Epoch 74/200\n",
      "15/15 [==============================] - 0s 1ms/step - loss: 0.4084 - accuracy: 0.8114 - val_loss: 0.4499 - val_accuracy: 0.7826\n",
      "Epoch 75/200\n",
      "15/15 [==============================] - 0s 1ms/step - loss: 0.4163 - accuracy: 0.8158 - val_loss: 0.4381 - val_accuracy: 0.7652\n",
      "Epoch 76/200\n",
      "15/15 [==============================] - 0s 1ms/step - loss: 0.4192 - accuracy: 0.8114 - val_loss: 0.4406 - val_accuracy: 0.7739\n",
      "Epoch 77/200\n",
      "15/15 [==============================] - 0s 1ms/step - loss: 0.4269 - accuracy: 0.7982 - val_loss: 0.4362 - val_accuracy: 0.7739\n",
      "Epoch 78/200\n",
      "15/15 [==============================] - 0s 1ms/step - loss: 0.4135 - accuracy: 0.8092 - val_loss: 0.4321 - val_accuracy: 0.7739\n",
      "Epoch 79/200\n",
      "15/15 [==============================] - 0s 1ms/step - loss: 0.4046 - accuracy: 0.8136 - val_loss: 0.4354 - val_accuracy: 0.7739\n",
      "Epoch 80/200\n",
      "15/15 [==============================] - 0s 1ms/step - loss: 0.4117 - accuracy: 0.8004 - val_loss: 0.4339 - val_accuracy: 0.7739\n",
      "Epoch 81/200\n",
      "15/15 [==============================] - 0s 1ms/step - loss: 0.4250 - accuracy: 0.8026 - val_loss: 0.4400 - val_accuracy: 0.8000\n",
      "Epoch 82/200\n",
      "15/15 [==============================] - 0s 1ms/step - loss: 0.4131 - accuracy: 0.8092 - val_loss: 0.4282 - val_accuracy: 0.7739\n",
      "Epoch 83/200\n",
      "15/15 [==============================] - 0s 1ms/step - loss: 0.4147 - accuracy: 0.8070 - val_loss: 0.4387 - val_accuracy: 0.7826\n",
      "Epoch 84/200\n",
      "15/15 [==============================] - 0s 1ms/step - loss: 0.4130 - accuracy: 0.8092 - val_loss: 0.4371 - val_accuracy: 0.7739\n",
      "Epoch 85/200\n",
      "15/15 [==============================] - 0s 1ms/step - loss: 0.4103 - accuracy: 0.8092 - val_loss: 0.4345 - val_accuracy: 0.7739\n",
      "Epoch 86/200\n",
      "15/15 [==============================] - 0s 1ms/step - loss: 0.4050 - accuracy: 0.8158 - val_loss: 0.4393 - val_accuracy: 0.7739\n",
      "Epoch 87/200\n",
      "15/15 [==============================] - 0s 1ms/step - loss: 0.4027 - accuracy: 0.8180 - val_loss: 0.4343 - val_accuracy: 0.7739\n",
      "Epoch 88/200\n",
      "15/15 [==============================] - 0s 1ms/step - loss: 0.4046 - accuracy: 0.8158 - val_loss: 0.4418 - val_accuracy: 0.7739\n",
      "Epoch 89/200\n",
      "15/15 [==============================] - 0s 1ms/step - loss: 0.4023 - accuracy: 0.8158 - val_loss: 0.4436 - val_accuracy: 0.7739\n",
      "Epoch 90/200\n",
      "15/15 [==============================] - 0s 1ms/step - loss: 0.4077 - accuracy: 0.8158 - val_loss: 0.4374 - val_accuracy: 0.7739\n",
      "Epoch 91/200\n",
      "15/15 [==============================] - 0s 1ms/step - loss: 0.4203 - accuracy: 0.8136 - val_loss: 0.4434 - val_accuracy: 0.7739\n",
      "Epoch 92/200\n",
      "15/15 [==============================] - 0s 1ms/step - loss: 0.4772 - accuracy: 0.7741 - val_loss: 0.4708 - val_accuracy: 0.8174\n",
      "Epoch 93/200\n",
      "15/15 [==============================] - 0s 1ms/step - loss: 0.4657 - accuracy: 0.7719 - val_loss: 0.4450 - val_accuracy: 0.7826\n",
      "Epoch 94/200\n",
      "15/15 [==============================] - 0s 1ms/step - loss: 0.4490 - accuracy: 0.7588 - val_loss: 0.4549 - val_accuracy: 0.7652\n",
      "Epoch 95/200\n",
      "15/15 [==============================] - 0s 1ms/step - loss: 0.4314 - accuracy: 0.7697 - val_loss: 0.4521 - val_accuracy: 0.7826\n",
      "Epoch 96/200\n",
      "15/15 [==============================] - 0s 1ms/step - loss: 0.4231 - accuracy: 0.7719 - val_loss: 0.4452 - val_accuracy: 0.7739\n",
      "Epoch 97/200\n",
      "15/15 [==============================] - 0s 1ms/step - loss: 0.4224 - accuracy: 0.7851 - val_loss: 0.4468 - val_accuracy: 0.7826\n",
      "Epoch 98/200\n",
      "15/15 [==============================] - 0s 1ms/step - loss: 0.4194 - accuracy: 0.7807 - val_loss: 0.4518 - val_accuracy: 0.7826\n",
      "Epoch 99/200\n",
      "15/15 [==============================] - 0s 1ms/step - loss: 0.4179 - accuracy: 0.7829 - val_loss: 0.4449 - val_accuracy: 0.7913\n",
      "Epoch 100/200\n",
      "15/15 [==============================] - 0s 1ms/step - loss: 0.4173 - accuracy: 0.7807 - val_loss: 0.4484 - val_accuracy: 0.7913\n",
      "Epoch 101/200\n",
      "15/15 [==============================] - 0s 1ms/step - loss: 0.4113 - accuracy: 0.7829 - val_loss: 0.4433 - val_accuracy: 0.7826\n",
      "Epoch 102/200\n",
      "15/15 [==============================] - 0s 1ms/step - loss: 0.4129 - accuracy: 0.7785 - val_loss: 0.4437 - val_accuracy: 0.8000\n",
      "Epoch 103/200\n",
      "15/15 [==============================] - 0s 1ms/step - loss: 0.4090 - accuracy: 0.7982 - val_loss: 0.4439 - val_accuracy: 0.8087\n",
      "Epoch 104/200\n",
      "15/15 [==============================] - 0s 1ms/step - loss: 0.4100 - accuracy: 0.8092 - val_loss: 0.4414 - val_accuracy: 0.7913\n",
      "Epoch 105/200\n",
      "15/15 [==============================] - 0s 1ms/step - loss: 0.4063 - accuracy: 0.8070 - val_loss: 0.4408 - val_accuracy: 0.7565\n",
      "Epoch 106/200\n",
      "15/15 [==============================] - 0s 1ms/step - loss: 0.4053 - accuracy: 0.8202 - val_loss: 0.4546 - val_accuracy: 0.7739\n",
      "Epoch 107/200\n",
      "15/15 [==============================] - 0s 1ms/step - loss: 0.4032 - accuracy: 0.8158 - val_loss: 0.4379 - val_accuracy: 0.7739\n",
      "Epoch 108/200\n",
      "15/15 [==============================] - 0s 1ms/step - loss: 0.4026 - accuracy: 0.8158 - val_loss: 0.4379 - val_accuracy: 0.7739\n",
      "Epoch 109/200\n",
      "15/15 [==============================] - 0s 1ms/step - loss: 0.4074 - accuracy: 0.8180 - val_loss: 0.4458 - val_accuracy: 0.7739\n",
      "Epoch 110/200\n",
      "15/15 [==============================] - 0s 1ms/step - loss: 0.4057 - accuracy: 0.8158 - val_loss: 0.4417 - val_accuracy: 0.7826\n",
      "Epoch 111/200\n",
      "15/15 [==============================] - 0s 2ms/step - loss: 0.4114 - accuracy: 0.8092 - val_loss: 0.4560 - val_accuracy: 0.7739\n",
      "Epoch 112/200\n",
      "15/15 [==============================] - 0s 2ms/step - loss: 0.4145 - accuracy: 0.8202 - val_loss: 0.4437 - val_accuracy: 0.7652\n",
      "Epoch 113/200\n",
      "15/15 [==============================] - 0s 2ms/step - loss: 0.4164 - accuracy: 0.8136 - val_loss: 0.4391 - val_accuracy: 0.7826\n",
      "Epoch 114/200\n",
      "15/15 [==============================] - 0s 2ms/step - loss: 0.4050 - accuracy: 0.8092 - val_loss: 0.4392 - val_accuracy: 0.7826\n",
      "Epoch 115/200\n",
      "15/15 [==============================] - 0s 2ms/step - loss: 0.4067 - accuracy: 0.8202 - val_loss: 0.4457 - val_accuracy: 0.7739\n",
      "Epoch 116/200\n"
     ]
    },
    {
     "name": "stdout",
     "output_type": "stream",
     "text": [
      "15/15 [==============================] - 0s 2ms/step - loss: 0.4040 - accuracy: 0.8136 - val_loss: 0.4437 - val_accuracy: 0.7739\n",
      "Epoch 117/200\n",
      "15/15 [==============================] - 0s 2ms/step - loss: 0.4087 - accuracy: 0.8048 - val_loss: 0.4411 - val_accuracy: 0.7739\n",
      "Epoch 118/200\n",
      "15/15 [==============================] - 0s 1ms/step - loss: 0.4058 - accuracy: 0.8136 - val_loss: 0.4488 - val_accuracy: 0.7826\n",
      "Epoch 119/200\n",
      "15/15 [==============================] - 0s 1ms/step - loss: 0.4020 - accuracy: 0.8136 - val_loss: 0.4426 - val_accuracy: 0.7652\n",
      "Epoch 120/200\n",
      "15/15 [==============================] - 0s 1ms/step - loss: 0.4045 - accuracy: 0.8092 - val_loss: 0.4325 - val_accuracy: 0.7652\n",
      "Epoch 121/200\n",
      "15/15 [==============================] - 0s 1ms/step - loss: 0.4198 - accuracy: 0.8114 - val_loss: 0.4420 - val_accuracy: 0.7826\n",
      "Epoch 122/200\n",
      "15/15 [==============================] - 0s 1ms/step - loss: 0.4089 - accuracy: 0.8158 - val_loss: 0.4482 - val_accuracy: 0.7739\n",
      "Epoch 123/200\n",
      "15/15 [==============================] - 0s 1ms/step - loss: 0.4036 - accuracy: 0.8180 - val_loss: 0.4368 - val_accuracy: 0.7826\n",
      "Epoch 124/200\n",
      "15/15 [==============================] - 0s 1ms/step - loss: 0.4162 - accuracy: 0.8114 - val_loss: 0.4611 - val_accuracy: 0.8000\n",
      "Epoch 125/200\n",
      "15/15 [==============================] - 0s 1ms/step - loss: 0.4190 - accuracy: 0.7961 - val_loss: 0.4444 - val_accuracy: 0.7826\n",
      "Epoch 126/200\n",
      "15/15 [==============================] - 0s 1ms/step - loss: 0.4076 - accuracy: 0.8114 - val_loss: 0.4366 - val_accuracy: 0.7739\n",
      "Epoch 127/200\n",
      "15/15 [==============================] - 0s 1ms/step - loss: 0.4031 - accuracy: 0.8070 - val_loss: 0.4448 - val_accuracy: 0.7826\n",
      "Epoch 128/200\n",
      "15/15 [==============================] - 0s 1ms/step - loss: 0.4029 - accuracy: 0.8092 - val_loss: 0.4513 - val_accuracy: 0.7739\n",
      "Epoch 129/200\n",
      "15/15 [==============================] - 0s 1ms/step - loss: 0.4019 - accuracy: 0.8070 - val_loss: 0.4416 - val_accuracy: 0.7826\n",
      "Epoch 130/200\n",
      "15/15 [==============================] - 0s 1ms/step - loss: 0.3984 - accuracy: 0.8180 - val_loss: 0.4533 - val_accuracy: 0.7826\n",
      "Epoch 131/200\n",
      "15/15 [==============================] - 0s 1ms/step - loss: 0.4095 - accuracy: 0.8158 - val_loss: 0.4519 - val_accuracy: 0.7739\n",
      "Epoch 132/200\n",
      "15/15 [==============================] - 0s 1ms/step - loss: 0.4014 - accuracy: 0.8136 - val_loss: 0.4543 - val_accuracy: 0.7739\n",
      "Epoch 133/200\n",
      "15/15 [==============================] - 0s 1ms/step - loss: 0.4067 - accuracy: 0.8114 - val_loss: 0.4329 - val_accuracy: 0.7739\n",
      "Epoch 134/200\n",
      "15/15 [==============================] - 0s 1ms/step - loss: 0.4020 - accuracy: 0.8158 - val_loss: 0.4373 - val_accuracy: 0.7826\n",
      "Epoch 135/200\n",
      "15/15 [==============================] - 0s 1ms/step - loss: 0.4012 - accuracy: 0.8180 - val_loss: 0.4437 - val_accuracy: 0.7826\n",
      "Epoch 136/200\n",
      "15/15 [==============================] - 0s 1ms/step - loss: 0.4053 - accuracy: 0.8180 - val_loss: 0.4458 - val_accuracy: 0.7826\n",
      "Epoch 137/200\n",
      "15/15 [==============================] - 0s 1ms/step - loss: 0.3976 - accuracy: 0.8202 - val_loss: 0.4374 - val_accuracy: 0.7826\n",
      "Epoch 138/200\n",
      "15/15 [==============================] - 0s 1ms/step - loss: 0.4033 - accuracy: 0.8092 - val_loss: 0.4482 - val_accuracy: 0.7739\n",
      "Epoch 139/200\n",
      "15/15 [==============================] - 0s 1ms/step - loss: 0.4153 - accuracy: 0.8158 - val_loss: 0.4601 - val_accuracy: 0.7826\n",
      "Epoch 140/200\n",
      "15/15 [==============================] - 0s 1ms/step - loss: 0.3999 - accuracy: 0.8268 - val_loss: 0.4401 - val_accuracy: 0.7739\n",
      "Epoch 141/200\n",
      "15/15 [==============================] - 0s 1ms/step - loss: 0.4003 - accuracy: 0.8114 - val_loss: 0.4523 - val_accuracy: 0.7739\n",
      "Epoch 142/200\n",
      "15/15 [==============================] - 0s 1ms/step - loss: 0.4329 - accuracy: 0.7851 - val_loss: 0.4482 - val_accuracy: 0.8000\n",
      "Epoch 143/200\n",
      "15/15 [==============================] - 0s 1ms/step - loss: 0.4090 - accuracy: 0.8092 - val_loss: 0.4397 - val_accuracy: 0.7739\n",
      "Epoch 144/200\n",
      "15/15 [==============================] - 0s 2ms/step - loss: 0.4034 - accuracy: 0.8158 - val_loss: 0.4499 - val_accuracy: 0.7739\n",
      "Epoch 145/200\n",
      "15/15 [==============================] - 0s 1ms/step - loss: 0.4001 - accuracy: 0.8224 - val_loss: 0.4400 - val_accuracy: 0.7826\n",
      "Epoch 146/200\n",
      "15/15 [==============================] - 0s 1ms/step - loss: 0.3979 - accuracy: 0.8268 - val_loss: 0.4422 - val_accuracy: 0.7826\n",
      "Epoch 147/200\n",
      "15/15 [==============================] - 0s 1ms/step - loss: 0.4062 - accuracy: 0.8158 - val_loss: 0.4395 - val_accuracy: 0.7652\n",
      "Epoch 148/200\n",
      "15/15 [==============================] - 0s 1ms/step - loss: 0.4336 - accuracy: 0.7982 - val_loss: 0.4585 - val_accuracy: 0.7913\n",
      "Epoch 149/200\n",
      "15/15 [==============================] - 0s 1ms/step - loss: 0.4117 - accuracy: 0.8092 - val_loss: 0.4422 - val_accuracy: 0.7826\n",
      "Epoch 150/200\n",
      "15/15 [==============================] - 0s 2ms/step - loss: 0.4023 - accuracy: 0.8136 - val_loss: 0.4484 - val_accuracy: 0.7826\n",
      "Epoch 151/200\n",
      "15/15 [==============================] - 0s 1ms/step - loss: 0.3973 - accuracy: 0.8180 - val_loss: 0.4480 - val_accuracy: 0.7652\n",
      "Epoch 152/200\n",
      "15/15 [==============================] - 0s 1ms/step - loss: 0.4065 - accuracy: 0.8289 - val_loss: 0.4543 - val_accuracy: 0.7826\n",
      "Epoch 153/200\n",
      "15/15 [==============================] - 0s 1ms/step - loss: 0.4040 - accuracy: 0.8136 - val_loss: 0.4571 - val_accuracy: 0.7739\n",
      "Epoch 154/200\n",
      "15/15 [==============================] - 0s 1ms/step - loss: 0.4022 - accuracy: 0.8158 - val_loss: 0.4466 - val_accuracy: 0.7826\n",
      "Epoch 155/200\n",
      "15/15 [==============================] - 0s 1ms/step - loss: 0.4012 - accuracy: 0.8268 - val_loss: 0.4436 - val_accuracy: 0.7652\n",
      "Epoch 156/200\n",
      "15/15 [==============================] - 0s 1ms/step - loss: 0.3988 - accuracy: 0.8158 - val_loss: 0.4546 - val_accuracy: 0.7826\n",
      "Epoch 157/200\n",
      "15/15 [==============================] - 0s 1ms/step - loss: 0.3998 - accuracy: 0.8224 - val_loss: 0.4530 - val_accuracy: 0.7826\n",
      "Epoch 158/200\n",
      "15/15 [==============================] - 0s 1ms/step - loss: 0.3967 - accuracy: 0.8224 - val_loss: 0.4484 - val_accuracy: 0.7826\n",
      "Epoch 159/200\n",
      "15/15 [==============================] - 0s 1ms/step - loss: 0.3997 - accuracy: 0.8202 - val_loss: 0.4486 - val_accuracy: 0.7739\n",
      "Epoch 160/200\n",
      "15/15 [==============================] - 0s 1ms/step - loss: 0.3995 - accuracy: 0.8180 - val_loss: 0.4693 - val_accuracy: 0.7739\n",
      "Epoch 161/200\n",
      "15/15 [==============================] - 0s 1ms/step - loss: 0.3950 - accuracy: 0.8289 - val_loss: 0.4411 - val_accuracy: 0.7739\n",
      "Epoch 162/200\n",
      "15/15 [==============================] - 0s 1ms/step - loss: 0.3984 - accuracy: 0.8268 - val_loss: 0.4550 - val_accuracy: 0.7739\n",
      "Epoch 163/200\n",
      "15/15 [==============================] - 0s 1ms/step - loss: 0.3940 - accuracy: 0.8158 - val_loss: 0.4480 - val_accuracy: 0.7739\n",
      "Epoch 164/200\n",
      "15/15 [==============================] - 0s 1ms/step - loss: 0.3983 - accuracy: 0.8158 - val_loss: 0.4612 - val_accuracy: 0.7739\n",
      "Epoch 165/200\n",
      "15/15 [==============================] - 0s 1ms/step - loss: 0.4043 - accuracy: 0.8180 - val_loss: 0.4529 - val_accuracy: 0.7652\n",
      "Epoch 166/200\n",
      "15/15 [==============================] - 0s 1ms/step - loss: 0.3943 - accuracy: 0.8224 - val_loss: 0.4528 - val_accuracy: 0.7739\n",
      "Epoch 167/200\n",
      "15/15 [==============================] - 0s 1ms/step - loss: 0.3926 - accuracy: 0.8246 - val_loss: 0.4495 - val_accuracy: 0.7826\n",
      "Epoch 168/200\n",
      "15/15 [==============================] - 0s 1ms/step - loss: 0.3928 - accuracy: 0.8224 - val_loss: 0.4511 - val_accuracy: 0.7826\n",
      "Epoch 169/200\n",
      "15/15 [==============================] - 0s 1ms/step - loss: 0.4025 - accuracy: 0.8202 - val_loss: 0.4647 - val_accuracy: 0.7826\n",
      "Epoch 170/200\n",
      "15/15 [==============================] - 0s 1ms/step - loss: 0.3999 - accuracy: 0.8224 - val_loss: 0.4455 - val_accuracy: 0.7826\n",
      "Epoch 171/200\n",
      "15/15 [==============================] - 0s 1ms/step - loss: 0.3978 - accuracy: 0.8289 - val_loss: 0.4560 - val_accuracy: 0.7826\n",
      "Epoch 172/200\n",
      "15/15 [==============================] - 0s 1ms/step - loss: 0.3972 - accuracy: 0.8158 - val_loss: 0.4481 - val_accuracy: 0.7652\n",
      "Epoch 173/200\n"
     ]
    },
    {
     "name": "stdout",
     "output_type": "stream",
     "text": [
      "15/15 [==============================] - 0s 2ms/step - loss: 0.3908 - accuracy: 0.8268 - val_loss: 0.4543 - val_accuracy: 0.7826\n",
      "Epoch 174/200\n",
      "15/15 [==============================] - 0s 1ms/step - loss: 0.3927 - accuracy: 0.8311 - val_loss: 0.4514 - val_accuracy: 0.7826\n",
      "Epoch 175/200\n",
      "15/15 [==============================] - 0s 1ms/step - loss: 0.3945 - accuracy: 0.8224 - val_loss: 0.4539 - val_accuracy: 0.7739\n",
      "Epoch 176/200\n",
      "15/15 [==============================] - 0s 1ms/step - loss: 0.3919 - accuracy: 0.8355 - val_loss: 0.4625 - val_accuracy: 0.7739\n",
      "Epoch 177/200\n",
      "15/15 [==============================] - 0s 1ms/step - loss: 0.3911 - accuracy: 0.8246 - val_loss: 0.4352 - val_accuracy: 0.7913\n",
      "Epoch 178/200\n",
      "15/15 [==============================] - 0s 1ms/step - loss: 0.3973 - accuracy: 0.8268 - val_loss: 0.4507 - val_accuracy: 0.7913\n",
      "Epoch 179/200\n",
      "15/15 [==============================] - 0s 1ms/step - loss: 0.4123 - accuracy: 0.8224 - val_loss: 0.4571 - val_accuracy: 0.7913\n",
      "Epoch 180/200\n",
      "15/15 [==============================] - 0s 1ms/step - loss: 0.3986 - accuracy: 0.8289 - val_loss: 0.4404 - val_accuracy: 0.7826\n",
      "Epoch 181/200\n",
      "15/15 [==============================] - 0s 1ms/step - loss: 0.3928 - accuracy: 0.8333 - val_loss: 0.4465 - val_accuracy: 0.7739\n",
      "Epoch 182/200\n",
      "15/15 [==============================] - 0s 1ms/step - loss: 0.3938 - accuracy: 0.8268 - val_loss: 0.4469 - val_accuracy: 0.7739\n",
      "Epoch 183/200\n",
      "15/15 [==============================] - 0s 1ms/step - loss: 0.3892 - accuracy: 0.8289 - val_loss: 0.4543 - val_accuracy: 0.7913\n",
      "Epoch 184/200\n",
      "15/15 [==============================] - 0s 1ms/step - loss: 0.3912 - accuracy: 0.8289 - val_loss: 0.4578 - val_accuracy: 0.7826\n",
      "Epoch 185/200\n",
      "15/15 [==============================] - 0s 1ms/step - loss: 0.3874 - accuracy: 0.8311 - val_loss: 0.4568 - val_accuracy: 0.7913\n",
      "Epoch 186/200\n",
      "15/15 [==============================] - 0s 1ms/step - loss: 0.3938 - accuracy: 0.8224 - val_loss: 0.4485 - val_accuracy: 0.7739\n",
      "Epoch 187/200\n",
      "15/15 [==============================] - 0s 1ms/step - loss: 0.3978 - accuracy: 0.8268 - val_loss: 0.4609 - val_accuracy: 0.7913\n",
      "Epoch 188/200\n",
      "15/15 [==============================] - 0s 1ms/step - loss: 0.3916 - accuracy: 0.8289 - val_loss: 0.4441 - val_accuracy: 0.7826\n",
      "Epoch 189/200\n",
      "15/15 [==============================] - 0s 1ms/step - loss: 0.3985 - accuracy: 0.8224 - val_loss: 0.4302 - val_accuracy: 0.7826\n",
      "Epoch 190/200\n",
      "15/15 [==============================] - 0s 1ms/step - loss: 0.3984 - accuracy: 0.8268 - val_loss: 0.4441 - val_accuracy: 0.7826\n",
      "Epoch 191/200\n",
      "15/15 [==============================] - 0s 1ms/step - loss: 0.3969 - accuracy: 0.8311 - val_loss: 0.4479 - val_accuracy: 0.7826\n",
      "Epoch 192/200\n",
      "15/15 [==============================] - 0s 1ms/step - loss: 0.3923 - accuracy: 0.8289 - val_loss: 0.4536 - val_accuracy: 0.7913\n",
      "Epoch 193/200\n",
      "15/15 [==============================] - 0s 1ms/step - loss: 0.3923 - accuracy: 0.8355 - val_loss: 0.4573 - val_accuracy: 0.7739\n",
      "Epoch 194/200\n",
      "15/15 [==============================] - 0s 1ms/step - loss: 0.3942 - accuracy: 0.8268 - val_loss: 0.4577 - val_accuracy: 0.7739\n",
      "Epoch 195/200\n",
      "15/15 [==============================] - 0s 1ms/step - loss: 0.3917 - accuracy: 0.8333 - val_loss: 0.4583 - val_accuracy: 0.7826\n",
      "Epoch 196/200\n",
      "15/15 [==============================] - 0s 1ms/step - loss: 0.3976 - accuracy: 0.8333 - val_loss: 0.4410 - val_accuracy: 0.7739\n",
      "Epoch 197/200\n",
      "15/15 [==============================] - 0s 1ms/step - loss: 0.3907 - accuracy: 0.8333 - val_loss: 0.4404 - val_accuracy: 0.7913\n",
      "Epoch 198/200\n",
      "15/15 [==============================] - 0s 1ms/step - loss: 0.3993 - accuracy: 0.8268 - val_loss: 0.4460 - val_accuracy: 0.8000\n",
      "Epoch 199/200\n",
      "15/15 [==============================] - 0s 1ms/step - loss: 0.3917 - accuracy: 0.8311 - val_loss: 0.4580 - val_accuracy: 0.7826\n",
      "Epoch 200/200\n",
      "15/15 [==============================] - 0s 1ms/step - loss: 0.3984 - accuracy: 0.8289 - val_loss: 0.4488 - val_accuracy: 0.7913\n"
     ]
    },
    {
     "data": {
      "text/plain": [
       "<tensorflow.python.keras.callbacks.History at 0x1d40e5244c8>"
      ]
     },
     "execution_count": 42,
     "metadata": {},
     "output_type": "execute_result"
    }
   ],
   "source": [
    "#epochs: number of steps in gradient descent\n",
    "model.fit(a1,a2,epochs=200,validation_split=0.2)"
   ]
  },
  {
   "cell_type": "code",
   "execution_count": 26,
   "id": "e86af716",
   "metadata": {},
   "outputs": [
    {
     "name": "stdout",
     "output_type": "stream",
     "text": [
      "Model: \"sequential\"\n",
      "_________________________________________________________________\n",
      "Layer (type)                 Output Shape              Param #   \n",
      "=================================================================\n",
      "dense (Dense)                (None, 64)                320       \n",
      "_________________________________________________________________\n",
      "dense_1 (Dense)              (None, 32)                2080      \n",
      "_________________________________________________________________\n",
      "dense_2 (Dense)              (None, 8)                 264       \n",
      "_________________________________________________________________\n",
      "dense_3 (Dense)              (None, 1)                 9         \n",
      "=================================================================\n",
      "Total params: 2,673\n",
      "Trainable params: 2,673\n",
      "Non-trainable params: 0\n",
      "_________________________________________________________________\n"
     ]
    }
   ],
   "source": [
    "model.summary()"
   ]
  },
  {
   "cell_type": "markdown",
   "id": "40eff091",
   "metadata": {},
   "source": [
    "## Predict"
   ]
  },
  {
   "cell_type": "code",
   "execution_count": 43,
   "id": "6cac63b3",
   "metadata": {},
   "outputs": [],
   "source": [
    "a3=X_test.values.reshape(-1,4)\n",
    "a4=y_test.values.reshape(-1,1)"
   ]
  },
  {
   "cell_type": "code",
   "execution_count": 44,
   "id": "f75816d2",
   "metadata": {},
   "outputs": [],
   "source": [
    "temp=model.predict(a3)\n",
    "y_pred=np.zeros_like(temp)\n",
    "y_pred[temp>=0.5]=1"
   ]
  },
  {
   "cell_type": "code",
   "execution_count": 45,
   "id": "bf608928",
   "metadata": {},
   "outputs": [],
   "source": [
    "from sklearn.metrics import accuracy_score"
   ]
  },
  {
   "cell_type": "code",
   "execution_count": 46,
   "id": "187606a5",
   "metadata": {},
   "outputs": [
    {
     "name": "stdout",
     "output_type": "stream",
     "text": [
      "Accuracy: 0.8041958041958042\n"
     ]
    }
   ],
   "source": [
    "acc = accuracy_score(a4, y_pred)\n",
    "print(\"Accuracy:\", acc)"
   ]
  }
 ],
 "metadata": {
  "kernelspec": {
   "display_name": "Python 3 (ipykernel)",
   "language": "python",
   "name": "python3"
  },
  "language_info": {
   "codemirror_mode": {
    "name": "ipython",
    "version": 3
   },
   "file_extension": ".py",
   "mimetype": "text/x-python",
   "name": "python",
   "nbconvert_exporter": "python",
   "pygments_lexer": "ipython3",
   "version": "3.7.13"
  }
 },
 "nbformat": 4,
 "nbformat_minor": 5
}
